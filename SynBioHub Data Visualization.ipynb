{
 "cells": [
  {
   "cell_type": "code",
   "execution_count": 110,
   "metadata": {
    "init_cell": true
   },
   "outputs": [
    {
     "data": {
      "text/html": [
       "<script>\n",
       "  function code_toggle() {\n",
       "    if (code_shown){\n",
       "      $('div.input').hide('500');\n",
       "      $('#toggleButton').val('Show Code')\n",
       "    } else {\n",
       "      $('div.input').show('500');\n",
       "      $('#toggleButton').val('Hide Code')\n",
       "    }\n",
       "    code_shown = !code_shown\n",
       "  }\n",
       "\n",
       "  $( document ).ready(function(){\n",
       "    code_shown=false;\n",
       "    $('div.input').hide()\n",
       "  });\n",
       "</script>\n",
       "<form action=\"javascript:code_toggle()\"><input type=\"submit\" id=\"toggleButton\" value=\"Show Code\"></form>"
      ],
      "text/plain": [
       "<IPython.core.display.HTML object>"
      ]
     },
     "execution_count": 110,
     "metadata": {},
     "output_type": "execute_result"
    }
   ],
   "source": [
    "from IPython.display import HTML\n",
    "HTML('''<script>\n",
    "  function code_toggle() {\n",
    "    if (code_shown){\n",
    "      $('div.input').hide('500');\n",
    "      $('#toggleButton').val('Show Code')\n",
    "    } else {\n",
    "      $('div.input').show('500');\n",
    "      $('#toggleButton').val('Hide Code')\n",
    "    }\n",
    "    code_shown = !code_shown\n",
    "  }\n",
    "\n",
    "  $( document ).ready(function(){\n",
    "    code_shown=false;\n",
    "    $('div.input').hide()\n",
    "  });\n",
    "</script>\n",
    "<form action=\"javascript:code_toggle()\"><input type=\"submit\" id=\"toggleButton\" value=\"Show Code\"></form>''')"
   ]
  },
  {
   "cell_type": "markdown",
   "metadata": {},
   "source": [
    "# Uploading to SynBioHub\n",
    "\n",
    "Using this notebook will allow you to visualize your Excel data and store it in SynBioHub. First, make sure your Excel spreadsheet follows the template provided by the TASBE-Flow Analytics Tutorial: https://github.com/TASBE/TASBEFlowAnalytics-Tutorial/blob/master/batch_template.xlsm\n",
    "\n",
    "After downloading the accompanying python code to this notebook, make sure that it is in the same directory as your Excel file."
   ]
  },
  {
   "cell_type": "code",
   "execution_count": 111,
   "metadata": {
    "init_cell": true
   },
   "outputs": [],
   "source": [
    "from sbol import *\n",
    "import re\n",
    "import sys\n",
    "import xlrd\n",
    "from ipywidgets import widgets\n",
    "import getpass"
   ]
  },
  {
   "cell_type": "code",
   "execution_count": 112,
   "metadata": {
    "init_cell": true
   },
   "outputs": [
    {
     "name": "stdout",
     "output_type": "stream",
     "text": [
      "The autoreload extension is already loaded. To reload it, use:\n",
      "  %reload_ext autoreload\n"
     ]
    }
   ],
   "source": [
    "%load_ext autoreload\n",
    "%autoreload 2"
   ]
  },
  {
   "cell_type": "markdown",
   "metadata": {},
   "source": [
    "## Select File:\n",
    "\n",
    "Select the Excel spreadsheet you want to model."
   ]
  },
  {
   "cell_type": "code",
   "execution_count": 113,
   "metadata": {
    "code_folding": [],
    "init_cell": true,
    "scrolled": true
   },
   "outputs": [
    {
     "data": {
      "application/vnd.jupyter.widget-view+json": {
       "model_id": "a16345a5f8d648ae927874f44c693513",
       "version_major": 2,
       "version_minor": 0
      },
      "text/plain": [
       "FileUpload(style_button='color: white; background-color: darkorange; width: 180px;')"
      ]
     },
     "metadata": {},
     "output_type": "display_data"
    }
   ],
   "source": [
    "from IPython.display import display\n",
    "from ipyupload import FileUpload\n",
    "\n",
    "w = FileUpload(\n",
    "    accept='',\n",
    "    multiple=False,\n",
    "    disabled=False,\n",
    "    style_button='color: white; background-color: darkorange; width: 180px;', \n",
    "    compress_level=0\n",
    ")\n",
    "\n",
    "display(w)"
   ]
  },
  {
   "cell_type": "markdown",
   "metadata": {},
   "source": [
    "## Checking File Compatability:\n",
    "Press the button below to confirm:"
   ]
  },
  {
   "cell_type": "code",
   "execution_count": 114,
   "metadata": {
    "code_folding": [],
    "init_cell": true
   },
   "outputs": [
    {
     "data": {
      "application/vnd.jupyter.widget-view+json": {
       "model_id": "90a7d4e8609e47d28c876db2ad7403b1",
       "version_major": 2,
       "version_minor": 0
      },
      "text/plain": [
       "Button(description='Proceed', style=ButtonStyle())"
      ]
     },
     "metadata": {},
     "output_type": "display_data"
    },
    {
     "name": "stderr",
     "output_type": "stream",
     "text": [
      "Converting \"20180606_JHT6.xlsm\" to SBOL...: 100%|██████████| 1000/1000 [00:01<00:00, 482.84it/s]"
     ]
    },
    {
     "name": "stdout",
     "output_type": "stream",
     "text": [
      "Success!\n"
     ]
    },
    {
     "name": "stderr",
     "output_type": "stream",
     "text": [
      "\n"
     ]
    }
   ],
   "source": [
    "##CHECK ALL POSSIBLE ERRORS AND SEE IF THEY HAVE BEEN CAUGHT\n",
    "\n",
    "from tqdm import tqdm\n",
    "import time\n",
    "import os\n",
    "\n",
    "ActionButton = widgets.Button(\n",
    "    description = 'Proceed'\n",
    ")\n",
    "out = widgets.Output()\n",
    "def on_button_clicked(_):\n",
    "    with out:\n",
    "        clear_output()\n",
    "    with tqdm(total=1000) as pbar:\n",
    "        file_location = list(w.value)\n",
    "        file_location = file_location[0]\n",
    "        pbar.set_description(\"Converting \\\"%s\\\" to SBOL...\" % file_location)\n",
    "        pbar.update(59)\n",
    "        time.sleep(0.1)\n",
    "        name,extension = os.path.splitext(file_location)\n",
    "        counter = 0\n",
    "        for i in ['.xlsm','.xlsx','.xltx','.xltm','.xls','.xlm','.xlt']:\n",
    "            if extension == i:\n",
    "                counter = 1\n",
    "                break\n",
    "        if counter != 1:\n",
    "            print('Error: \"%s\" file format is not supported.' % extension)\n",
    "        else:    \n",
    "            %run -i 'experimentdnaexcel.py'\n",
    "            pbar.update(59)\n",
    "            time.sleep(0.1)\n",
    "\n",
    "            global doc\n",
    "            pbar.update(59)\n",
    "            time.sleep(0.1)         \n",
    "            doc = Document()\n",
    "            pbar.update(59)\n",
    "            time.sleep(0.1)\n",
    "            setHomespace('http://bu.edu/dasha')       \n",
    "            pbar.update(59)\n",
    "            time.sleep(0.1)    \n",
    "            Config.setOption('sbol_typed_uris',False)\n",
    "            pbar.update(59)\n",
    "            time.sleep(0.1)\n",
    "            Config.setOption('sbol_compliant_uris',True)\n",
    "            pbar.update(59)\n",
    "            time.sleep(0.1)\n",
    "\n",
    "            wb = MakeBook(file_location)\n",
    "            pbar.update(59)\n",
    "            time.sleep(0.1)\n",
    "            (ExpName, ExpSheet) = ExcelImport(wb)\n",
    "            if (ExpName == -1 and ExpSheet == -1):\n",
    "                return\n",
    "            pbar.update(59)\n",
    "            time.sleep(0.1)\n",
    "            Unit = UnitCollectionFunc(ExpSheet)\n",
    "            if Unit == -1:\n",
    "                return\n",
    "            pbar.update(59)\n",
    "            time.sleep(0.1)\n",
    "            (ModList,PlasmidList_orig) = PlasModList(ExpSheet)\n",
    "            if (ModList == -1 and PlasmidList_orig == -1):\n",
    "                return\n",
    "            pbar.update(59)\n",
    "            time.sleep(0.1)\n",
    "            PlasmidList_norepeat = PlasNoRepeat(PlasmidList_orig)\n",
    "            pbar.update(59)\n",
    "            time.sleep(0.1)\n",
    "            NewModList = ModListCleaner(ModList,ExpName)\n",
    "            pbar.update(59)\n",
    "            time.sleep(0.1)\n",
    "            ModDefDict = ModMaker(ExpSheet,ModList,NewModList)\n",
    "            if ModDefDict == -1:\n",
    "                return\n",
    "            pbar.update(59)\n",
    "            time.sleep(0.1)\n",
    "            diditwork = SamplesImport(ModList,NewModList,ModDefDict,wb,ExpName)\n",
    "            if diditwork == -1:\n",
    "                return\n",
    "            pbar.update(56)\n",
    "            time.sleep(0.1)\n",
    "            CompDefDict = CompMaker(PlasmidList_norepeat)\n",
    "            pbar.update(59)\n",
    "            time.sleep(0.1)\n",
    "            diditwork = FuncMaker(NewModList,ModList,ExpSheet,CompDefDict,ModDefDict,Unit)\n",
    "            pbar.update(59)\n",
    "            time.sleep(0.1)\n",
    "\n",
    "            print('Success!')\n",
    "\n",
    "\n",
    "ActionButton.on_click(on_button_clicked) \n",
    "ActionButton\n"
   ]
  },
  {
   "cell_type": "markdown",
   "metadata": {},
   "source": [
    "## Enter Collection Details:\n",
    "Enter the **displayID** (REQUIRED, alphanumeric and underscore characters only, cannot begin with a digit), **collection name** (optional, if you want to elaborate on the displayID), and **collection description**. "
   ]
  },
  {
   "cell_type": "code",
   "execution_count": 115,
   "metadata": {
    "init_cell": true
   },
   "outputs": [
    {
     "data": {
      "application/vnd.jupyter.widget-view+json": {
       "model_id": "5dfa1b4854954b0299d79acc28745a95",
       "version_major": 2,
       "version_minor": 0
      },
      "text/plain": [
       "VBox(children=(Text(value='', description='displayID'), Text(value='', description='name'), Textarea(value='',…"
      ]
     },
     "metadata": {},
     "output_type": "display_data"
    }
   ],
   "source": [
    "displaywidget = widgets.Text(\n",
    "    value='',\n",
    "    description = 'displayID'\n",
    ")\n",
    "namewidget = widgets.Text(\n",
    "    value='',\n",
    "    description = 'name'\n",
    ")\n",
    "descriptionwidget = widgets.Textarea(\n",
    "    value='',\n",
    "    description = 'description'\n",
    ")\n",
    "collectionbox = widgets.VBox([displaywidget,namewidget,descriptionwidget])\n",
    "collectionbox\n"
   ]
  },
  {
   "cell_type": "markdown",
   "metadata": {},
   "source": [
    "## Enter Login Information:\n",
    "Enter your **username** and **password** for the SynBioHub account you want to upload your collection to."
   ]
  },
  {
   "cell_type": "code",
   "execution_count": 117,
   "metadata": {
    "init_cell": true,
    "scrolled": true
   },
   "outputs": [
    {
     "data": {
      "application/vnd.jupyter.widget-view+json": {
       "model_id": "8f3911045bce45dea98b529f177ea8af",
       "version_major": 2,
       "version_minor": 0
      },
      "text/plain": [
       "VBox(children=(Text(value='', description='Username:', placeholder=''), Password(description='Password:'), But…"
      ]
     },
     "metadata": {},
     "output_type": "display_data"
    },
    {
     "name": "stdout",
     "output_type": "stream",
     "text": [
      "Successfully uploaded\n",
      "Login required\n"
     ]
    }
   ],
   "source": [
    "usernamewidget = widgets.Text(\n",
    "    value='',\n",
    "    placeholder='',\n",
    "    description='Username:',\n",
    "    disabled=False\n",
    ")\n",
    "uploadButton = widgets.Button(\n",
    "    description = 'Upload to SynBioHub'\n",
    ")\n",
    "passwordwidget = widgets.Password(\n",
    "    description = 'Password:'\n",
    ")\n",
    "\n",
    "out = widgets.Output()\n",
    "def on_button_clicked(_):\n",
    "    diditwork = UploadFunc(usernamewidget.value,passwordwidget.value,displaywidget.value,namewidget.value,descriptionwidget.value)\n",
    "\n",
    "uploadButton.on_click(on_button_clicked)\n",
    "\n",
    "box = widgets.VBox([usernamewidget,passwordwidget,uploadButton])\n",
    "box\n"
   ]
  },
  {
   "cell_type": "code",
   "execution_count": null,
   "metadata": {},
   "outputs": [],
   "source": []
  }
 ],
 "metadata": {
  "celltoolbar": "Initialization Cell",
  "kernelspec": {
   "display_name": "Python 3",
   "language": "python",
   "name": "python3"
  },
  "language_info": {
   "codemirror_mode": {
    "name": "ipython",
    "version": 3
   },
   "file_extension": ".py",
   "mimetype": "text/x-python",
   "name": "python",
   "nbconvert_exporter": "python",
   "pygments_lexer": "ipython3",
   "version": "3.7.3"
  }
 },
 "nbformat": 4,
 "nbformat_minor": 2
}
